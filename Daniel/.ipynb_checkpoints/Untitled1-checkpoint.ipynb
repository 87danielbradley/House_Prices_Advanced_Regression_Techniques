{
 "cells": [
  {
   "cell_type": "code",
   "execution_count": 1,
   "metadata": {},
   "outputs": [],
   "source": [
    "from bs4 import *\n",
    "import requests\n",
    "import re\n",
    "import pandas as pd\n",
    "from splinter import Browser\n",
    "import time\n",
    "import random\n",
    "import html5lib"
   ]
  },
  {
   "cell_type": "code",
   "execution_count": 6,
   "metadata": {},
   "outputs": [],
   "source": [
    "url = \"https://beacon.schneidercorp.com/Application.aspx?AppID=165&LayerID=2145&PageTypeID=4&PageID=1108&Q=1194192114&KeyValue=0201100105\""
   ]
  },
  {
   "cell_type": "code",
   "execution_count": null,
   "metadata": {},
   "outputs": [],
   "source": []
  },
  {
   "cell_type": "code",
   "execution_count": 7,
   "metadata": {},
   "outputs": [],
   "source": [
    "response = requests.get(url)\n",
    "soup = BeautifulSoup(response.text, 'html.parser')"
   ]
  },
  {
   "cell_type": "code",
   "execution_count": null,
   "metadata": {},
   "outputs": [],
   "source": []
  },
  {
   "cell_type": "code",
   "execution_count": 9,
   "metadata": {},
   "outputs": [],
   "source": [
    "executable_path = {'executable_path': 'chromedriver.exe'}"
   ]
  },
  {
   "cell_type": "code",
   "execution_count": 10,
   "metadata": {},
   "outputs": [],
   "source": [
    "browser = Browser('chrome', **executable_path, headless=False)"
   ]
  },
  {
   "cell_type": "code",
   "execution_count": 11,
   "metadata": {},
   "outputs": [],
   "source": [
    "browser.visit(url)"
   ]
  },
  {
   "cell_type": "code",
   "execution_count": 11,
   "metadata": {},
   "outputs": [
    {
     "name": "stderr",
     "output_type": "stream",
     "text": [
      "C:\\Users\\Chandni\\Anaconda3\\envs\\PythonAdv\\lib\\site-packages\\splinter\\driver\\webdriver\\__init__.py:528: FutureWarning: browser.find_link_by_partial_text is deprecated. Use browser.links.find_by_partial_text instead.\n",
      "  FutureWarning,\n"
     ]
    }
   ],
   "source": [
    "browser.click_link_by_partial_text('Agree')"
   ]
  },
  {
   "cell_type": "code",
   "execution_count": 22,
   "metadata": {},
   "outputs": [
    {
     "name": "stderr",
     "output_type": "stream",
     "text": [
      "C:\\Users\\Chandni\\Anaconda3\\envs\\PythonAdv\\lib\\site-packages\\splinter\\driver\\webdriver\\__init__.py:520: FutureWarning: browser.find_link_by_partial_href is deprecated. Use browser.links.find_by_partial_href instead.\n",
      "  FutureWarning,\n"
     ]
    }
   ],
   "source": [
    "browser.click_link_by_partial_href('ToolBar1$btnNextRecord')\n",
    "#browser.click_link_by_partial_href(\"ToolBar1$btnPrevRecord\")"
   ]
  },
  {
   "cell_type": "code",
   "execution_count": 24,
   "metadata": {},
   "outputs": [],
   "source": [
    "url = browser.url\n",
    "table = pd.read_html(url)"
   ]
  },
  {
   "cell_type": "code",
   "execution_count": 44,
   "metadata": {
    "scrolled": true
   },
   "outputs": [
    {
     "ename": "ImportError",
     "evalue": "html5lib not found, please install it",
     "output_type": "error",
     "traceback": [
      "\u001b[1;31m---------------------------------------------------------------------------\u001b[0m",
      "\u001b[1;31mImportError\u001b[0m                               Traceback (most recent call last)",
      "\u001b[1;32m<ipython-input-44-1d0c32e954ea>\u001b[0m in \u001b[0;36m<module>\u001b[1;34m\u001b[0m\n\u001b[0;32m      3\u001b[0m \u001b[1;32mfor\u001b[0m \u001b[0mi\u001b[0m \u001b[1;32min\u001b[0m \u001b[0mrange\u001b[0m\u001b[1;33m(\u001b[0m\u001b[1;36m0\u001b[0m\u001b[1;33m,\u001b[0m\u001b[1;36m1000\u001b[0m\u001b[1;33m)\u001b[0m\u001b[1;33m:\u001b[0m\u001b[1;33m\u001b[0m\u001b[1;33m\u001b[0m\u001b[0m\n\u001b[0;32m      4\u001b[0m     \u001b[0murl\u001b[0m \u001b[1;33m=\u001b[0m \u001b[0mbrowser\u001b[0m\u001b[1;33m.\u001b[0m\u001b[0murl\u001b[0m\u001b[1;33m\u001b[0m\u001b[1;33m\u001b[0m\u001b[0m\n\u001b[1;32m----> 5\u001b[1;33m     \u001b[0mtable\u001b[0m \u001b[1;33m=\u001b[0m \u001b[0mpd\u001b[0m\u001b[1;33m.\u001b[0m\u001b[0mread_html\u001b[0m\u001b[1;33m(\u001b[0m\u001b[0murl\u001b[0m\u001b[1;33m)\u001b[0m\u001b[1;33m\u001b[0m\u001b[1;33m\u001b[0m\u001b[0m\n\u001b[0m\u001b[0;32m      6\u001b[0m     \u001b[0mListofUrls\u001b[0m\u001b[1;33m.\u001b[0m\u001b[0mappend\u001b[0m\u001b[1;33m(\u001b[0m\u001b[0murl\u001b[0m\u001b[1;33m)\u001b[0m\u001b[1;33m\u001b[0m\u001b[1;33m\u001b[0m\u001b[0m\n\u001b[0;32m      7\u001b[0m     \u001b[0mListofTables\u001b[0m\u001b[1;33m.\u001b[0m\u001b[0mappend\u001b[0m\u001b[1;33m(\u001b[0m\u001b[0mtable\u001b[0m\u001b[1;33m)\u001b[0m\u001b[1;33m\u001b[0m\u001b[1;33m\u001b[0m\u001b[0m\n",
      "\u001b[1;32m~\\Anaconda3\\envs\\PythonAdv\\lib\\site-packages\\pandas\\io\\html.py\u001b[0m in \u001b[0;36mread_html\u001b[1;34m(io, match, flavor, header, index_col, skiprows, attrs, parse_dates, thousands, encoding, decimal, converters, na_values, keep_default_na, displayed_only)\u001b[0m\n\u001b[0;32m   1098\u001b[0m         \u001b[0mna_values\u001b[0m\u001b[1;33m=\u001b[0m\u001b[0mna_values\u001b[0m\u001b[1;33m,\u001b[0m\u001b[1;33m\u001b[0m\u001b[1;33m\u001b[0m\u001b[0m\n\u001b[0;32m   1099\u001b[0m         \u001b[0mkeep_default_na\u001b[0m\u001b[1;33m=\u001b[0m\u001b[0mkeep_default_na\u001b[0m\u001b[1;33m,\u001b[0m\u001b[1;33m\u001b[0m\u001b[1;33m\u001b[0m\u001b[0m\n\u001b[1;32m-> 1100\u001b[1;33m         \u001b[0mdisplayed_only\u001b[0m\u001b[1;33m=\u001b[0m\u001b[0mdisplayed_only\u001b[0m\u001b[1;33m,\u001b[0m\u001b[1;33m\u001b[0m\u001b[1;33m\u001b[0m\u001b[0m\n\u001b[0m\u001b[0;32m   1101\u001b[0m     )\n",
      "\u001b[1;32m~\\Anaconda3\\envs\\PythonAdv\\lib\\site-packages\\pandas\\io\\html.py\u001b[0m in \u001b[0;36m_parse\u001b[1;34m(flavor, io, match, attrs, encoding, displayed_only, **kwargs)\u001b[0m\n\u001b[0;32m    889\u001b[0m     \u001b[0mretained\u001b[0m \u001b[1;33m=\u001b[0m \u001b[1;32mNone\u001b[0m\u001b[1;33m\u001b[0m\u001b[1;33m\u001b[0m\u001b[0m\n\u001b[0;32m    890\u001b[0m     \u001b[1;32mfor\u001b[0m \u001b[0mflav\u001b[0m \u001b[1;32min\u001b[0m \u001b[0mflavor\u001b[0m\u001b[1;33m:\u001b[0m\u001b[1;33m\u001b[0m\u001b[1;33m\u001b[0m\u001b[0m\n\u001b[1;32m--> 891\u001b[1;33m         \u001b[0mparser\u001b[0m \u001b[1;33m=\u001b[0m \u001b[0m_parser_dispatch\u001b[0m\u001b[1;33m(\u001b[0m\u001b[0mflav\u001b[0m\u001b[1;33m)\u001b[0m\u001b[1;33m\u001b[0m\u001b[1;33m\u001b[0m\u001b[0m\n\u001b[0m\u001b[0;32m    892\u001b[0m         \u001b[0mp\u001b[0m \u001b[1;33m=\u001b[0m \u001b[0mparser\u001b[0m\u001b[1;33m(\u001b[0m\u001b[0mio\u001b[0m\u001b[1;33m,\u001b[0m \u001b[0mcompiled_match\u001b[0m\u001b[1;33m,\u001b[0m \u001b[0mattrs\u001b[0m\u001b[1;33m,\u001b[0m \u001b[0mencoding\u001b[0m\u001b[1;33m,\u001b[0m \u001b[0mdisplayed_only\u001b[0m\u001b[1;33m)\u001b[0m\u001b[1;33m\u001b[0m\u001b[1;33m\u001b[0m\u001b[0m\n\u001b[0;32m    893\u001b[0m \u001b[1;33m\u001b[0m\u001b[0m\n",
      "\u001b[1;32m~\\Anaconda3\\envs\\PythonAdv\\lib\\site-packages\\pandas\\io\\html.py\u001b[0m in \u001b[0;36m_parser_dispatch\u001b[1;34m(flavor)\u001b[0m\n\u001b[0;32m    838\u001b[0m     \u001b[1;32mif\u001b[0m \u001b[0mflavor\u001b[0m \u001b[1;32min\u001b[0m \u001b[1;33m(\u001b[0m\u001b[1;34m\"bs4\"\u001b[0m\u001b[1;33m,\u001b[0m \u001b[1;34m\"html5lib\"\u001b[0m\u001b[1;33m)\u001b[0m\u001b[1;33m:\u001b[0m\u001b[1;33m\u001b[0m\u001b[1;33m\u001b[0m\u001b[0m\n\u001b[0;32m    839\u001b[0m         \u001b[1;32mif\u001b[0m \u001b[1;32mnot\u001b[0m \u001b[0m_HAS_HTML5LIB\u001b[0m\u001b[1;33m:\u001b[0m\u001b[1;33m\u001b[0m\u001b[1;33m\u001b[0m\u001b[0m\n\u001b[1;32m--> 840\u001b[1;33m             \u001b[1;32mraise\u001b[0m \u001b[0mImportError\u001b[0m\u001b[1;33m(\u001b[0m\u001b[1;34m\"html5lib not found, please install it\"\u001b[0m\u001b[1;33m)\u001b[0m\u001b[1;33m\u001b[0m\u001b[1;33m\u001b[0m\u001b[0m\n\u001b[0m\u001b[0;32m    841\u001b[0m         \u001b[1;32mif\u001b[0m \u001b[1;32mnot\u001b[0m \u001b[0m_HAS_BS4\u001b[0m\u001b[1;33m:\u001b[0m\u001b[1;33m\u001b[0m\u001b[1;33m\u001b[0m\u001b[0m\n\u001b[0;32m    842\u001b[0m             \u001b[1;32mraise\u001b[0m \u001b[0mImportError\u001b[0m\u001b[1;33m(\u001b[0m\u001b[1;34m\"BeautifulSoup4 (bs4) not found, please install it\"\u001b[0m\u001b[1;33m)\u001b[0m\u001b[1;33m\u001b[0m\u001b[1;33m\u001b[0m\u001b[0m\n",
      "\u001b[1;31mImportError\u001b[0m: html5lib not found, please install it"
     ]
    }
   ],
   "source": [
    "ListofTables = []\n",
    "ListofUrls = []\n",
    "for i in range(0,1000):\n",
    "    url = browser.url\n",
    "    table = pd.read_html(url)\n",
    "    ListofUrls.append(url)\n",
    "    ListofTables.append(table)\n",
    "    browser.click_link_by_partial_href('ToolBar1$btnNextRecord')\n",
    "    rand_num = (random.random()*2+3)\n",
    "    time.sleep(rand_num)\n",
    "browser.url"
   ]
  },
  {
   "cell_type": "code",
   "execution_count": 41,
   "metadata": {},
   "outputs": [
    {
     "name": "stdout",
     "output_type": "stream",
     "text": [
      "34\n"
     ]
    }
   ],
   "source": [
    "print(i)"
   ]
  },
  {
   "cell_type": "code",
   "execution_count": 42,
   "metadata": {},
   "outputs": [
    {
     "data": {
      "text/plain": [
       "34"
      ]
     },
     "execution_count": 42,
     "metadata": {},
     "output_type": "execute_result"
    }
   ],
   "source": [
    "len(ListofTables)"
   ]
  },
  {
   "cell_type": "code",
   "execution_count": 18,
   "metadata": {},
   "outputs": [],
   "source": []
  },
  {
   "cell_type": "code",
   "execution_count": 27,
   "metadata": {},
   "outputs": [],
   "source": [
    "url = browser.url\n",
    "table = pd.read_html(url)\n",
    "ListofUrls2.append(url)\n",
    "ListofTables2.append(table)\n",
    "#browser.click_link_by_partial_href('ToolBar1$btnNextRecord')\n"
   ]
  },
  {
   "cell_type": "code",
   "execution_count": 29,
   "metadata": {},
   "outputs": [
    {
     "data": {
      "text/plain": [
       "[                                    0  \\\n",
       " 0                         Sec-Twp-Rng   \n",
       " 1               Brief Tax Description   \n",
       " 2                       Primary Class   \n",
       " 3                      Primary Zoning   \n",
       " 4                    Secondary Zoning   \n",
       " 5                      Zoning Overlay   \n",
       " 6            Secondary Zoning Overlay   \n",
       " 7                         Gross Acres   \n",
       " 8                           Net Acres   \n",
       " 9       Last Transfer  Recording Date   \n",
       " 10      Deed Book/Page  (Instr. Date)   \n",
       " 11  Contract Book/Page  (Instr. Date)   \n",
       " 12                    Taxing District   \n",
       " 13                    School District   \n",
       " 14                    TIF/UR District   \n",
       " 15                  Drainage District   \n",
       " \n",
       "                                                     1  \n",
       " 0                                            09-85-24  \n",
       " 1   SECTION:09 TOWNSHIP:85 RANGE:24 NW NW W55 AC B...  \n",
       " 2                                         Residential  \n",
       " 3                                   A-1, Agricultural  \n",
       " 4                                                 NaN  \n",
       " 5                                                 NaN  \n",
       " 6                                                 NaN  \n",
       " 7                                           3.50  N/A  \n",
       " 8                                                3.29  \n",
       " 9                                           4/19/1991  \n",
       " 10                                275-191 (4/19/1991)  \n",
       " 11                                                NaN  \n",
       " 12                     LAFAYETTE TWP/ROLAND-STORY SCH  \n",
       " 13                      ROLAND-STORY COMMUNITY SCHOOL  \n",
       " 14                                                NaN  \n",
       " 15                                                NaN  ,\n",
       "                   0                         1\n",
       " 0       Property ID             01-09-100-115\n",
       " 1            Map ID             01-09-100-115\n",
       " 2  Property Address  52164 110TH STSTORY CITY,\n",
       "                                                    0\n",
       " 0                                        Deed Holder\n",
       " 1  HUNTER, DARWIN R & DENISE K  52164 110TH ST  S...,\n",
       "                  0\n",
       " 0  Contract Holder,\n",
       "                                                    0\n",
       " 0                                    Mailing Address\n",
       " 1  HUNTER, DARWIN R & DENISE K52164 110TH STSTORY...,\n",
       "           0                          1\n",
       " 0  Lot Area  3.29 Acres  ; 143,312  SF,\n",
       "                        0   1\n",
       " 0         Administrative NaN\n",
       " 1       Purpose of visit NaN\n",
       " 2      Inspection Status NaN\n",
       " 3               Tag Left NaN\n",
       " 4  Appointment Requested NaN\n",
       " 5                   Memo NaN,\n",
       "                                                    0\n",
       " 0  Residential Dwelling  Occupancy  Single-Family...,\n",
       "                         0                                   1\n",
       " 0    Residential Dwelling                                 NaN\n",
       " 1                   Style                       1 Story Frame\n",
       " 2              Year Built                                1994\n",
       " 3               Condition                              Normal\n",
       " 4                   Grade                                 NaN\n",
       " 5   Brick or Stone Veneer                                 NaN\n",
       " 6              Attic Type                               None;\n",
       " 7                Plumbing  1 Full Bath; 1 Whirlpool Bathroom;\n",
       " 8              Fireplaces                                 NaN\n",
       " 9      Functional Obso. %                                   0\n",
       " 10       Economic Obso. %                                   0\n",
       " 11          Other Obso. %                                   0\n",
       " 12   Obsolescence Reasons                                 NaN,\n",
       "    Plot #            Type Description  Width  Length  Year Built  \\\n",
       " 0       1  Shed - Loafing   MACH SHED     47      80        1978   \n",
       " \n",
       "   Appraised Value  \n",
       " 0          $2,600  ,\n",
       "         0     1            2      3       4           5               6\n",
       " 0  Plot #  Type  Description  Width  Length  Year Built  Building Count\n",
       " 1     NaN   NaN          NaN    NaN     NaN         NaN             NaN\n",
       " 2     NaN   NaN          NaN    NaN     NaN         NaN             NaN\n",
       " 3     NaN   NaN          NaN    NaN     NaN         NaN             NaN,\n",
       "   Unnamed: 0               Unnamed: 1         2020         2019         2018  \\\n",
       " 0        NaN           Classification  Residential  Residential  Residential   \n",
       " 1          +      Assessed Land Value     $105,000     $105,000      $90,600   \n",
       " 2          +  Assessed Building Value           $0           $0           $0   \n",
       " 3          +  Assessed Dwelling Value     $106,200     $106,200      $89,100   \n",
       " 4          =     Gross Assessed Value     $211,200     $211,200     $179,700   \n",
       " 5          -             Exempt Value           $0           $0           $0   \n",
       " 6          =       Net Assessed Value     $211,200     $211,200     $179,700   \n",
       " \n",
       "           2017         2016         2015  \n",
       " 0  Residential  Residential  Residential  \n",
       " 1      $90,600      $90,600      $90,600  \n",
       " 2           $0           $0           $0  \n",
       " 3      $89,100      $91,200      $91,200  \n",
       " 4     $179,700     $181,800     $181,800  \n",
       " 5           $0           $0           $0  \n",
       " 6     $179,700     $181,800     $181,800  ,\n",
       "    Unnamed: 0                           Unnamed: 1         2018         2017  \\\n",
       " 0         NaN                       Classification  Residential  Residential   \n",
       " 1           +                   Taxable Land Value      $51,568      $50,393   \n",
       " 2           +               Taxable Building Value           $0           $0   \n",
       " 3           +               Taxable Dwelling Value      $50,714      $49,558   \n",
       " 4           =                  Gross Taxable Value     $102,282      $99,951   \n",
       " 5           -                      Military Credit          NaN          NaN   \n",
       " 6           =                    Net Taxable Value     $102,282      $99,951   \n",
       " 7           x       Levy Rate (per $1000 of value)     24.91715     24.91711   \n",
       " 8           =                      Gross Taxes Due    $2,548.58    $2,490.49   \n",
       " 9           -                       Ag Land Credit        $0.00        $0.00   \n",
       " 10          -                   Family Farm Credit        $0.00        $0.00   \n",
       " 11          -                     Homestead Credit    ($120.85)    ($120.85)   \n",
       " 12          -  Disabled and Senior Citizens Credit        $0.00        $0.00   \n",
       " 13          -             Business Property Credit        $0.00        $0.00   \n",
       " 14          =                        Net Taxes Due    $2,428.00    $2,370.00   \n",
       " \n",
       "            2016         2015  \n",
       " 0   Residential  Residential  \n",
       " 1       $51,587      $50,397  \n",
       " 2            $0           $0  \n",
       " 3       $51,928      $50,731  \n",
       " 4      $103,515     $101,128  \n",
       " 5           NaN          NaN  \n",
       " 6      $103,515     $101,128  \n",
       " 7      25.19583     22.99080  \n",
       " 8     $2,608.15    $2,325.01  \n",
       " 9         $0.00        $0.00  \n",
       " 10        $0.00        $0.00  \n",
       " 11    ($122.20)    ($111.51)  \n",
       " 12        $0.00        $0.00  \n",
       " 13        $0.00        $0.00  \n",
       " 14    $2,486.00    $2,214.00  ,\n",
       "    Year                    Due Date          Amount      Paid  \\\n",
       " 0  2018  March 2020  September 2019  $1,214  $1,214  Yes  Yes   \n",
       " 1  2017  March 2019  September 2018  $1,185  $1,185  Yes  Yes   \n",
       " 2  2016  March 2018  September 2017  $1,243  $1,243  Yes  Yes   \n",
       " 3  2015  March 2017  September 2016  $1,107  $1,107  Yes  Yes   \n",
       " 4  2014  March 2016  September 2015  $1,136  $1,136  Yes  Yes   \n",
       " 5  2013  March 2015  September 2014  $1,088  $1,088  Yes  Yes   \n",
       " \n",
       "               Date Paid  Tax Statement/Receipt  \n",
       " 0  3/25/2020  9/27/2019                 141012  \n",
       " 1  3/19/2019  9/24/2018                 140447  \n",
       " 2  3/29/2018  9/26/2017                 118820  \n",
       " 3  3/29/2017  9/20/2016                 114919  \n",
       " 4  3/30/2016  9/24/2015                 100479  \n",
       " 5  3/30/2015  9/24/2014                 103884  ,\n",
       "     0                                                  1\n",
       " 0 NaN  Click here to pay property taxes online at the...,\n",
       "                 0\n",
       " 0  View (275-191),\n",
       "   Installation Date System Type  System Size         Wells  \\\n",
       " 0       Unavailable     Unknown  Unavailable  Water Supply   \n",
       " \n",
       "   Maintenance Contract Required  \n",
       " 0                            No  ]"
      ]
     },
     "execution_count": 29,
     "metadata": {},
     "output_type": "execute_result"
    }
   ],
   "source": [
    "ListofTables2[-1]"
   ]
  },
  {
   "cell_type": "code",
   "execution_count": 30,
   "metadata": {},
   "outputs": [],
   "source": []
  },
  {
   "cell_type": "code",
   "execution_count": 43,
   "metadata": {},
   "outputs": [],
   "source": [
    "parcel = pd.read_csv(\"propertyID.csv\")['Parcel ID']\n",
    "ListofTables2 = pd.read_csv(\"savedParcels.csv\")\n",
    "ListofUrls2 = []\n",
    "count = 0\n",
    "base_url = \"https://beacon.schneidercorp.com/Application.aspx?AppID=165&LayerID=2145&PageTypeID=4&PageID=1108&KeyValue=\"\n"
   ]
  },
  {
   "cell_type": "code",
   "execution_count": 197,
   "metadata": {
    "scrolled": true
   },
   "outputs": [
    {
     "name": "stdout",
     "output_type": "stream",
     "text": [
      "16\n",
      "15\n",
      "17\n",
      "16\n",
      "17\n",
      "17\n",
      "16\n",
      "17\n",
      "17\n",
      "20\n",
      "20\n",
      "16\n",
      "18\n",
      "18\n",
      "18\n",
      "18\n",
      "19\n",
      "16\n",
      "15\n",
      "18\n",
      "15\n",
      "16\n",
      "18\n",
      "16\n",
      "16\n",
      "16\n",
      "16\n",
      "16\n",
      "17\n",
      "17\n",
      "17\n",
      "16\n",
      "16\n",
      "16\n",
      "17\n",
      "18\n",
      "19\n",
      "17\n",
      "18\n",
      "17\n",
      "16\n",
      "16\n",
      "16\n",
      "17\n",
      "16\n",
      "16\n",
      "13\n"
     ]
    }
   ],
   "source": [
    "no_error = True\n",
    "while no_error == True:\n",
    "    try:\n",
    "        if len(str(parcel[count])) == 9:\n",
    "            url = base_url+'0'+str(parcel[count])\n",
    "        else:\n",
    "            url = base_url+str(parcel[count])\n",
    "        table = pd.read_html(url)\n",
    "        ListofUrls2.append(url)\n",
    "        ListofTables2.append(table)\n",
    "        count+=1\n",
    "        print(len(table))\n",
    "        table\n",
    "        time.sleep(3)\n",
    "    except:\n",
    "        no_error = False\n"
   ]
  },
  {
   "cell_type": "code",
   "execution_count": 198,
   "metadata": {},
   "outputs": [],
   "source": [
    "table = pd.read_html(url)\n",
    "ListofUrls2.append(url)\n",
    "ListofTables2.append(table)"
   ]
  },
  {
   "cell_type": "code",
   "execution_count": 210,
   "metadata": {},
   "outputs": [],
   "source": [
    "pd.DataFrame(ListofTables2).to_csv('savedParcels.csv')"
   ]
  },
  {
   "cell_type": "code",
   "execution_count": null,
   "metadata": {},
   "outputs": [],
   "source": []
  }
 ],
 "metadata": {
  "kernelspec": {
   "display_name": "Python 3",
   "language": "python",
   "name": "python3"
  },
  "language_info": {
   "codemirror_mode": {
    "name": "ipython",
    "version": 3
   },
   "file_extension": ".py",
   "mimetype": "text/x-python",
   "name": "python",
   "nbconvert_exporter": "python",
   "pygments_lexer": "ipython3",
   "version": "3.6.10"
  }
 },
 "nbformat": 4,
 "nbformat_minor": 4
}
